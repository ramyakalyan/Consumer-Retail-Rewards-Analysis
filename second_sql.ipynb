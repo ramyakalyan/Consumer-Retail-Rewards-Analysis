{
 "cells": [
  {
   "cell_type": "code",
   "execution_count": 2,
   "id": "4dbe8e8f-8b1f-46a3-a9cd-c38e2aae4e26",
   "metadata": {},
   "outputs": [
    {
     "name": "stdout",
     "output_type": "stream",
     "text": [
      "Requirement already satisfied: pandas in c:\\users\\ramya\\anaconda3\\lib\\site-packages (2.2.2)\n",
      "Requirement already satisfied: sqlalchemy in c:\\users\\ramya\\anaconda3\\lib\\site-packages (2.0.30)\n",
      "Requirement already satisfied: ipython-sql in c:\\users\\ramya\\anaconda3\\lib\\site-packages (0.5.0)\n",
      "Requirement already satisfied: numpy>=1.26.0 in c:\\users\\ramya\\anaconda3\\lib\\site-packages (from pandas) (1.26.4)\n",
      "Requirement already satisfied: python-dateutil>=2.8.2 in c:\\users\\ramya\\anaconda3\\lib\\site-packages (from pandas) (2.9.0.post0)\n",
      "Requirement already satisfied: pytz>=2020.1 in c:\\users\\ramya\\anaconda3\\lib\\site-packages (from pandas) (2024.1)\n",
      "Requirement already satisfied: tzdata>=2022.7 in c:\\users\\ramya\\anaconda3\\lib\\site-packages (from pandas) (2023.3)\n",
      "Requirement already satisfied: typing-extensions>=4.6.0 in c:\\users\\ramya\\anaconda3\\lib\\site-packages (from sqlalchemy) (4.11.0)\n",
      "Requirement already satisfied: greenlet!=0.4.17 in c:\\users\\ramya\\anaconda3\\lib\\site-packages (from sqlalchemy) (3.0.1)\n",
      "Requirement already satisfied: prettytable in c:\\users\\ramya\\anaconda3\\lib\\site-packages (from ipython-sql) (3.11.0)\n",
      "Requirement already satisfied: ipython in c:\\users\\ramya\\anaconda3\\lib\\site-packages (from ipython-sql) (8.25.0)\n",
      "Requirement already satisfied: sqlparse in c:\\users\\ramya\\anaconda3\\lib\\site-packages (from ipython-sql) (0.5.1)\n",
      "Requirement already satisfied: six in c:\\users\\ramya\\anaconda3\\lib\\site-packages (from ipython-sql) (1.16.0)\n",
      "Requirement already satisfied: ipython-genutils in c:\\users\\ramya\\anaconda3\\lib\\site-packages (from ipython-sql) (0.2.0)\n",
      "Requirement already satisfied: decorator in c:\\users\\ramya\\anaconda3\\lib\\site-packages (from ipython->ipython-sql) (5.1.1)\n",
      "Requirement already satisfied: jedi>=0.16 in c:\\users\\ramya\\anaconda3\\lib\\site-packages (from ipython->ipython-sql) (0.18.1)\n",
      "Requirement already satisfied: matplotlib-inline in c:\\users\\ramya\\anaconda3\\lib\\site-packages (from ipython->ipython-sql) (0.1.6)\n",
      "Requirement already satisfied: prompt-toolkit<3.1.0,>=3.0.41 in c:\\users\\ramya\\anaconda3\\lib\\site-packages (from ipython->ipython-sql) (3.0.43)\n",
      "Requirement already satisfied: pygments>=2.4.0 in c:\\users\\ramya\\anaconda3\\lib\\site-packages (from ipython->ipython-sql) (2.15.1)\n",
      "Requirement already satisfied: stack-data in c:\\users\\ramya\\anaconda3\\lib\\site-packages (from ipython->ipython-sql) (0.2.0)\n",
      "Requirement already satisfied: traitlets>=5.13.0 in c:\\users\\ramya\\anaconda3\\lib\\site-packages (from ipython->ipython-sql) (5.14.3)\n",
      "Requirement already satisfied: colorama in c:\\users\\ramya\\anaconda3\\lib\\site-packages (from ipython->ipython-sql) (0.4.6)\n",
      "Requirement already satisfied: wcwidth in c:\\users\\ramya\\anaconda3\\lib\\site-packages (from prettytable->ipython-sql) (0.2.5)\n",
      "Requirement already satisfied: parso<0.9.0,>=0.8.0 in c:\\users\\ramya\\anaconda3\\lib\\site-packages (from jedi>=0.16->ipython->ipython-sql) (0.8.3)\n",
      "Requirement already satisfied: executing in c:\\users\\ramya\\anaconda3\\lib\\site-packages (from stack-data->ipython->ipython-sql) (0.8.3)\n",
      "Requirement already satisfied: asttokens in c:\\users\\ramya\\anaconda3\\lib\\site-packages (from stack-data->ipython->ipython-sql) (2.0.5)\n",
      "Requirement already satisfied: pure-eval in c:\\users\\ramya\\anaconda3\\lib\\site-packages (from stack-data->ipython->ipython-sql) (0.2.2)\n"
     ]
    }
   ],
   "source": [
    "!pip install pandas sqlalchemy ipython-sql"
   ]
  },
  {
   "cell_type": "code",
   "execution_count": 4,
   "id": "13d1644f-aaa8-4c3c-9467-c15e9b2e9863",
   "metadata": {},
   "outputs": [],
   "source": [
    "%load_ext sql\n"
   ]
  },
  {
   "cell_type": "code",
   "execution_count": 6,
   "id": "83c80f15-8c54-40b1-b981-155fbcd20f76",
   "metadata": {},
   "outputs": [],
   "source": [
    "from sqlalchemy import create_engine\n",
    "\n",
    "# Create a connection to a file-based SQLite database\n",
    "engine = create_engine(\"sqlite:///fetch_sqlmagic.db\")\n"
   ]
  },
  {
   "cell_type": "code",
   "execution_count": 8,
   "id": "779f6652-683d-4431-ac30-39da80f4291f",
   "metadata": {},
   "outputs": [],
   "source": [
    "import pandas as pd\n",
    "\n",
    "# Load CSV files into pandas DataFrames\n",
    "users_df = pd.read_csv(\"C:/Data/Ramya Career/Resume/NumpyNinja/Fetch/FORMATTED/formatted_users.csv\")\n",
    "transactions_df = pd.read_csv(\"C:/Data/Ramya Career/Resume/NumpyNinja/Fetch/FORMATTED/formatted_transactions.csv\")\n",
    "products_df = pd.read_csv(\"C:/Data/Ramya Career/Resume/NumpyNinja/Fetch/FORMATTED/formatted_products.csv\")\n"
   ]
  },
  {
   "cell_type": "code",
   "execution_count": 10,
   "id": "0f63519c-20b4-4f02-b6c7-eec625a8d3b5",
   "metadata": {},
   "outputs": [
    {
     "data": {
      "text/plain": [
       "845552"
      ]
     },
     "execution_count": 10,
     "metadata": {},
     "output_type": "execute_result"
    }
   ],
   "source": [
    "# Save DataFrames as tables in SQLite database\n",
    "users_df.to_sql(\"users\", con=engine, index=False, if_exists='replace')\n",
    "transactions_df.to_sql(\"transactions\", con=engine, index=False, if_exists='replace')\n",
    "products_df.to_sql(\"products\", con=engine, index=False, if_exists='replace')\n"
   ]
  },
  {
   "cell_type": "code",
   "execution_count": 12,
   "id": "fd977dbc-76e0-449a-ba05-c30d17a238fa",
   "metadata": {},
   "outputs": [
    {
     "name": "stdout",
     "output_type": "stream",
     "text": [
      "['products', 'transactions', 'users']\n"
     ]
    }
   ],
   "source": [
    "from sqlalchemy import inspect\n",
    "\n",
    "# Create an inspector to verify table names\n",
    "inspector = inspect(engine)\n",
    "print(inspector.get_table_names())  # Should display ['users', 'transactions', 'products']\n"
   ]
  },
  {
   "cell_type": "code",
   "execution_count": 14,
   "id": "f50afbc3-d171-4206-b2c7-e01c6301f839",
   "metadata": {},
   "outputs": [],
   "source": [
    "%sql sqlite:///fetch_sqlmagic.db\n"
   ]
  },
  {
   "cell_type": "code",
   "execution_count": 16,
   "id": "5289013e-ba31-40f8-8684-537fa4a1dc34",
   "metadata": {
    "scrolled": true
   },
   "outputs": [
    {
     "name": "stdout",
     "output_type": "stream",
     "text": [
      " * sqlite:///fetch_sqlmagic.db\n",
      "Done.\n"
     ]
    },
    {
     "data": {
      "text/html": [
       "<table>\n",
       "    <thead>\n",
       "        <tr>\n",
       "            <th>name</th>\n",
       "        </tr>\n",
       "    </thead>\n",
       "    <tbody>\n",
       "        <tr>\n",
       "            <td>users</td>\n",
       "        </tr>\n",
       "        <tr>\n",
       "            <td>transactions</td>\n",
       "        </tr>\n",
       "        <tr>\n",
       "            <td>products</td>\n",
       "        </tr>\n",
       "    </tbody>\n",
       "</table>"
      ],
      "text/plain": [
       "[('users',), ('transactions',), ('products',)]"
      ]
     },
     "execution_count": 16,
     "metadata": {},
     "output_type": "execute_result"
    }
   ],
   "source": [
    "%%sql\n",
    "SELECT name FROM sqlite_master WHERE type='table';\n"
   ]
  },
  {
   "cell_type": "code",
   "execution_count": 185,
   "id": "8159a68a-f6af-4741-800a-dbe0758e4799",
   "metadata": {
    "collapsed": true,
    "jupyter": {
     "outputs_hidden": true,
     "source_hidden": true
    }
   },
   "outputs": [
    {
     "name": "stdout",
     "output_type": "stream",
     "text": [
      " * sqlite:///fetch_sqlmagic.db\n",
      "Done.\n"
     ]
    },
    {
     "data": {
      "text/html": [
       "<table>\n",
       "    <thead>\n",
       "        <tr>\n",
       "            <th>id</th>\n",
       "            <th>created_date</th>\n",
       "            <th>birth_date</th>\n",
       "            <th>state</th>\n",
       "            <th>language</th>\n",
       "            <th>gender</th>\n",
       "        </tr>\n",
       "    </thead>\n",
       "    <tbody>\n",
       "        <tr>\n",
       "            <td>5ef3b4f17053ab141787697d</td>\n",
       "            <td>2020-06-24 20:17:54+00:00</td>\n",
       "            <td>2000-08-11 00:00:00+00:00</td>\n",
       "            <td>CA</td>\n",
       "            <td>es-419</td>\n",
       "            <td>female</td>\n",
       "        </tr>\n",
       "        <tr>\n",
       "            <td>5ff220d383fcfc12622b96bc</td>\n",
       "            <td>2021-01-03 19:53:55+00:00</td>\n",
       "            <td>2001-09-24 04:00:00+00:00</td>\n",
       "            <td>PA</td>\n",
       "            <td>en</td>\n",
       "            <td>female</td>\n",
       "        </tr>\n",
       "        <tr>\n",
       "            <td>6477950aa55bb77a0e27ee10</td>\n",
       "            <td>2023-05-31 18:42:18+00:00</td>\n",
       "            <td>1994-10-28 00:00:00+00:00</td>\n",
       "            <td>FL</td>\n",
       "            <td>es-419</td>\n",
       "            <td>female</td>\n",
       "        </tr>\n",
       "        <tr>\n",
       "            <td>658a306e99b40f103b63ccf8</td>\n",
       "            <td>2023-12-26 01:46:22+00:00</td>\n",
       "            <td>None</td>\n",
       "            <td>NC</td>\n",
       "            <td>en</td>\n",
       "            <td>None</td>\n",
       "        </tr>\n",
       "        <tr>\n",
       "            <td>653cf5d6a225ea102b7ecdc2</td>\n",
       "            <td>2023-10-28 11:51:50+00:00</td>\n",
       "            <td>1972-03-19 00:00:00+00:00</td>\n",
       "            <td>PA</td>\n",
       "            <td>en</td>\n",
       "            <td>female</td>\n",
       "        </tr>\n",
       "        <tr>\n",
       "            <td>5fe2b6f3ad416a1265c4ab68</td>\n",
       "            <td>2020-12-23 03:18:11+00:00</td>\n",
       "            <td>1999-10-27 04:00:00+00:00</td>\n",
       "            <td>NY</td>\n",
       "            <td>en</td>\n",
       "            <td>female</td>\n",
       "        </tr>\n",
       "        <tr>\n",
       "            <td>651210546816bb4d035b1ead</td>\n",
       "            <td>2023-09-25 22:57:24+00:00</td>\n",
       "            <td>1983-09-25 22:57:25+00:00</td>\n",
       "            <td>FL</td>\n",
       "            <td>es-419</td>\n",
       "            <td>male</td>\n",
       "        </tr>\n",
       "        <tr>\n",
       "            <td>642831ea3d4434e63c1936fd</td>\n",
       "            <td>2023-04-01 13:30:18+00:00</td>\n",
       "            <td>1970-02-16 05:00:00+00:00</td>\n",
       "            <td>IN</td>\n",
       "            <td>en</td>\n",
       "            <td>female</td>\n",
       "        </tr>\n",
       "        <tr>\n",
       "            <td>63a4c9a1b5f32149b9d82f9e</td>\n",
       "            <td>2022-12-22 21:18:25+00:00</td>\n",
       "            <td>1982-12-22 05:00:00+00:00</td>\n",
       "            <td>NC</td>\n",
       "            <td>en</td>\n",
       "            <td>female</td>\n",
       "        </tr>\n",
       "        <tr>\n",
       "            <td>63654b21d02459d8a57a2e2c</td>\n",
       "            <td>2022-11-04 17:25:53+00:00</td>\n",
       "            <td>1992-05-03 04:00:00+00:00</td>\n",
       "            <td>NY</td>\n",
       "            <td>en</td>\n",
       "            <td>non_binary</td>\n",
       "        </tr>\n",
       "    </tbody>\n",
       "</table>"
      ],
      "text/plain": [
       "[('5ef3b4f17053ab141787697d', '2020-06-24 20:17:54+00:00', '2000-08-11 00:00:00+00:00', 'CA', 'es-419', 'female'),\n",
       " ('5ff220d383fcfc12622b96bc', '2021-01-03 19:53:55+00:00', '2001-09-24 04:00:00+00:00', 'PA', 'en', 'female'),\n",
       " ('6477950aa55bb77a0e27ee10', '2023-05-31 18:42:18+00:00', '1994-10-28 00:00:00+00:00', 'FL', 'es-419', 'female'),\n",
       " ('658a306e99b40f103b63ccf8', '2023-12-26 01:46:22+00:00', None, 'NC', 'en', None),\n",
       " ('653cf5d6a225ea102b7ecdc2', '2023-10-28 11:51:50+00:00', '1972-03-19 00:00:00+00:00', 'PA', 'en', 'female'),\n",
       " ('5fe2b6f3ad416a1265c4ab68', '2020-12-23 03:18:11+00:00', '1999-10-27 04:00:00+00:00', 'NY', 'en', 'female'),\n",
       " ('651210546816bb4d035b1ead', '2023-09-25 22:57:24+00:00', '1983-09-25 22:57:25+00:00', 'FL', 'es-419', 'male'),\n",
       " ('642831ea3d4434e63c1936fd', '2023-04-01 13:30:18+00:00', '1970-02-16 05:00:00+00:00', 'IN', 'en', 'female'),\n",
       " ('63a4c9a1b5f32149b9d82f9e', '2022-12-22 21:18:25+00:00', '1982-12-22 05:00:00+00:00', 'NC', 'en', 'female'),\n",
       " ('63654b21d02459d8a57a2e2c', '2022-11-04 17:25:53+00:00', '1992-05-03 04:00:00+00:00', 'NY', 'en', 'non_binary')]"
      ]
     },
     "execution_count": 185,
     "metadata": {},
     "output_type": "execute_result"
    }
   ],
   "source": [
    "%%sql\n",
    "SELECT * FROM users LIMIT 10;\n"
   ]
  },
  {
   "cell_type": "code",
   "execution_count": 18,
   "id": "80d964eb-9c87-43ac-b94d-3cd791e901f7",
   "metadata": {},
   "outputs": [
    {
     "name": "stdout",
     "output_type": "stream",
     "text": [
      " * sqlite:///fetch_sqlmagic.db\n",
      "Done.\n"
     ]
    },
    {
     "data": {
      "text/html": [
       "<table>\n",
       "    <thead>\n",
       "        <tr>\n",
       "            <th>brand</th>\n",
       "            <th>brand_total_sales</th>\n",
       "            <th>receipt_count</th>\n",
       "            <th>market_share_percent</th>\n",
       "        </tr>\n",
       "    </thead>\n",
       "    <tbody>\n",
       "        <tr>\n",
       "            <td>TOSTITOS</td>\n",
       "            <td>260.99</td>\n",
       "            <td>36</td>\n",
       "            <td>14.1</td>\n",
       "        </tr>\n",
       "        <tr>\n",
       "            <td>GOOD FOODS</td>\n",
       "            <td>118.89</td>\n",
       "            <td>9</td>\n",
       "            <td>6.42</td>\n",
       "        </tr>\n",
       "        <tr>\n",
       "            <td>PACE</td>\n",
       "            <td>118.58</td>\n",
       "            <td>24</td>\n",
       "            <td>6.41</td>\n",
       "        </tr>\n",
       "        <tr>\n",
       "            <td>MARKETSIDE</td>\n",
       "            <td>103.29</td>\n",
       "            <td>16</td>\n",
       "            <td>5.58</td>\n",
       "        </tr>\n",
       "        <tr>\n",
       "            <td>FRITOS</td>\n",
       "            <td>91.73</td>\n",
       "            <td>19</td>\n",
       "            <td>4.96</td>\n",
       "        </tr>\n",
       "    </tbody>\n",
       "</table>"
      ],
      "text/plain": [
       "[('TOSTITOS', 260.99, 36, 14.1),\n",
       " ('GOOD FOODS', 118.89, 9, 6.42),\n",
       " ('PACE', 118.58, 24, 6.41),\n",
       " ('MARKETSIDE', 103.29, 16, 5.58),\n",
       " ('FRITOS', 91.73, 19, 4.96)]"
      ]
     },
     "execution_count": 18,
     "metadata": {},
     "output_type": "execute_result"
    }
   ],
   "source": [
    "%%sql\n",
    "WITH dips_and_salsa AS (\n",
    "    SELECT p.brand, p.barcode\n",
    "    FROM products p\n",
    "    WHERE LOWER(p.category_2) = 'dips & salsa'\n",
    "    AND p.brand IS NOT NULL\n",
    "),\n",
    "brand_sales AS (\n",
    "    SELECT \n",
    "        ds.brand,\n",
    "        COUNT(DISTINCT t.receipt_id) AS receipt_count,\n",
    "        SUM(t.sale) AS brand_total_sales\n",
    "    FROM transactions t\n",
    "    JOIN dips_and_salsa ds ON t.barcode = ds.barcode\n",
    "    GROUP BY ds.brand\n",
    "),\n",
    "total_category_sales AS (\n",
    "    SELECT SUM(brand_total_sales) AS total_sales\n",
    "    FROM brand_sales\n",
    ")\n",
    "SELECT \n",
    "    bs.brand,\n",
    "    bs.brand_total_sales,\n",
    "    bs.receipt_count,\n",
    "    ROUND((bs.brand_total_sales * 100.0 / tcs.total_sales), 2) AS market_share_percent\n",
    "FROM brand_sales bs\n",
    "JOIN total_category_sales tcs ON 1=1\n",
    "ORDER BY market_share_percent DESC, receipt_count DESC\n",
    "LIMIT 5;\n"
   ]
  },
  {
   "cell_type": "code",
   "execution_count": 31,
   "id": "c57a7f04-474d-4b1d-a0f4-4564b54f16d6",
   "metadata": {},
   "outputs": [
    {
     "name": "stdout",
     "output_type": "stream",
     "text": [
      " * sqlite:///fetch_sqlmagic.db\n",
      "Done.\n"
     ]
    },
    {
     "data": {
      "text/html": [
       "<table>\n",
       "    <thead>\n",
       "        <tr>\n",
       "            <th>brand</th>\n",
       "            <th>total_sales</th>\n",
       "        </tr>\n",
       "    </thead>\n",
       "    <tbody>\n",
       "        <tr>\n",
       "            <td>CVS</td>\n",
       "            <td>72.0</td>\n",
       "        </tr>\n",
       "        <tr>\n",
       "            <td>TRIDENT</td>\n",
       "            <td>46.72</td>\n",
       "        </tr>\n",
       "        <tr>\n",
       "            <td>DOVE</td>\n",
       "            <td>42.88</td>\n",
       "        </tr>\n",
       "        <tr>\n",
       "            <td>COORS LIGHT</td>\n",
       "            <td>34.96</td>\n",
       "        </tr>\n",
       "        <tr>\n",
       "            <td>AXE</td>\n",
       "            <td>15.98</td>\n",
       "        </tr>\n",
       "    </tbody>\n",
       "</table>"
      ],
      "text/plain": [
       "[('CVS', 72.0),\n",
       " ('TRIDENT', 46.72),\n",
       " ('DOVE', 42.88),\n",
       " ('COORS LIGHT', 34.96),\n",
       " ('AXE', 15.98)]"
      ]
     },
     "execution_count": 31,
     "metadata": {},
     "output_type": "execute_result"
    }
   ],
   "source": [
    "%%sql\n",
    "WITH eligible_users AS (\n",
    "    SELECT \n",
    "        id,\n",
    "        created_date,\n",
    "        -- Calculate the months since the account was created\n",
    "        (strftime('%Y', 'now') - strftime('%Y', created_date)) * 12 + \n",
    "        (strftime('%m', 'now') - strftime('%m', created_date)) AS months_since_created\n",
    "    FROM users\n",
    "),\n",
    "total_sales_amount AS (\n",
    "    SELECT p.brand,months_since_created,\n",
    "    SUM(t.sale) AS total_sales,\n",
    "   ROW_NUMBER() OVER (ORDER BY SUM(t.sale) DESC) AS rank\n",
    "    FROM transactions t\n",
    "    JOIN eligible_users u ON t.user_id = u.id\n",
    "    JOIN products p on t.barcode = p.barcode\n",
    "    WHERE months_since_created >= 6\n",
    "    AND p.brand IS NOT NULL\n",
    "    GROUP BY p.brand\n",
    ")\n",
    "SELECT brand, total_sales\n",
    "FROM total_sales_amount\n",
    "WHERE rank <=5\n",
    "ORDER BY total_sales DESC\n",
    "        \n"
   ]
  },
  {
   "cell_type": "code",
   "execution_count": 20,
   "id": "4ecf5c15-9fe5-4992-a753-0148bffb396f",
   "metadata": {},
   "outputs": [
    {
     "name": "stdout",
     "output_type": "stream",
     "text": [
      " * sqlite:///fetch_sqlmagic.db\n",
      "Done.\n"
     ]
    },
    {
     "data": {
      "text/html": [
       "<table>\n",
       "    <thead>\n",
       "        <tr>\n",
       "            <th>year</th>\n",
       "            <th>user_count</th>\n",
       "            <th>previous_year_count</th>\n",
       "            <th>yoy_growth_percentage</th>\n",
       "        </tr>\n",
       "    </thead>\n",
       "    <tbody>\n",
       "        <tr>\n",
       "            <td>2014</td>\n",
       "            <td>30</td>\n",
       "            <td>None</td>\n",
       "            <td>None</td>\n",
       "        </tr>\n",
       "        <tr>\n",
       "            <td>2015</td>\n",
       "            <td>51</td>\n",
       "            <td>30</td>\n",
       "            <td>70.0</td>\n",
       "        </tr>\n",
       "        <tr>\n",
       "            <td>2016</td>\n",
       "            <td>70</td>\n",
       "            <td>51</td>\n",
       "            <td>37.25</td>\n",
       "        </tr>\n",
       "        <tr>\n",
       "            <td>2017</td>\n",
       "            <td>644</td>\n",
       "            <td>70</td>\n",
       "            <td>820.0</td>\n",
       "        </tr>\n",
       "        <tr>\n",
       "            <td>2018</td>\n",
       "            <td>2168</td>\n",
       "            <td>644</td>\n",
       "            <td>236.65</td>\n",
       "        </tr>\n",
       "        <tr>\n",
       "            <td>2019</td>\n",
       "            <td>7093</td>\n",
       "            <td>2168</td>\n",
       "            <td>227.17</td>\n",
       "        </tr>\n",
       "        <tr>\n",
       "            <td>2020</td>\n",
       "            <td>16883</td>\n",
       "            <td>7093</td>\n",
       "            <td>138.02</td>\n",
       "        </tr>\n",
       "        <tr>\n",
       "            <td>2021</td>\n",
       "            <td>19159</td>\n",
       "            <td>16883</td>\n",
       "            <td>13.48</td>\n",
       "        </tr>\n",
       "        <tr>\n",
       "            <td>2022</td>\n",
       "            <td>26807</td>\n",
       "            <td>19159</td>\n",
       "            <td>39.92</td>\n",
       "        </tr>\n",
       "        <tr>\n",
       "            <td>2023</td>\n",
       "            <td>15464</td>\n",
       "            <td>26807</td>\n",
       "            <td>-42.31</td>\n",
       "        </tr>\n",
       "        <tr>\n",
       "            <td>2024</td>\n",
       "            <td>11631</td>\n",
       "            <td>15464</td>\n",
       "            <td>-24.79</td>\n",
       "        </tr>\n",
       "    </tbody>\n",
       "</table>"
      ],
      "text/plain": [
       "[('2014', 30, None, None),\n",
       " ('2015', 51, 30, 70.0),\n",
       " ('2016', 70, 51, 37.25),\n",
       " ('2017', 644, 70, 820.0),\n",
       " ('2018', 2168, 644, 236.65),\n",
       " ('2019', 7093, 2168, 227.17),\n",
       " ('2020', 16883, 7093, 138.02),\n",
       " ('2021', 19159, 16883, 13.48),\n",
       " ('2022', 26807, 19159, 39.92),\n",
       " ('2023', 15464, 26807, -42.31),\n",
       " ('2024', 11631, 15464, -24.79)]"
      ]
     },
     "execution_count": 20,
     "metadata": {},
     "output_type": "execute_result"
    }
   ],
   "source": [
    "%%sql\n",
    "WITH yearly_user_counts AS (\n",
    "    -- Step 1: Calculate user count per year\n",
    "    SELECT \n",
    "        STRFTIME('%Y', created_date) AS year,\n",
    "        COUNT(*) AS user_count\n",
    "    FROM users\n",
    "    WHERE created_date IS NOT NULL\n",
    "    GROUP BY year\n",
    "    ORDER BY year\n",
    ")\n",
    "SELECT \n",
    "    year,\n",
    "    user_count,\n",
    "    previous_year_count,\n",
    "    CASE\n",
    "        WHEN previous_year_count IS NULL THEN NULL\n",
    "        ELSE ROUND(((user_count - previous_year_count) * 100.0) / previous_year_count, 2)\n",
    "    END AS yoy_growth_percentage\n",
    "FROM (\n",
    "    -- Step 2: Add previous year count only once\n",
    "    SELECT \n",
    "        year,\n",
    "        user_count,\n",
    "        LAG(user_count) OVER (ORDER BY year) AS previous_year_count\n",
    "    FROM yearly_user_counts\n",
    ") AS growth_data\n",
    "ORDER BY year;"
   ]
  },
  {
   "cell_type": "code",
   "execution_count": null,
   "id": "173c64e4-3179-4128-86f9-ed19ec9768c9",
   "metadata": {},
   "outputs": [],
   "source": []
  }
 ],
 "metadata": {
  "kernelspec": {
   "display_name": "Python 3 (ipykernel)",
   "language": "python",
   "name": "python3"
  },
  "language_info": {
   "codemirror_mode": {
    "name": "ipython",
    "version": 3
   },
   "file_extension": ".py",
   "mimetype": "text/x-python",
   "name": "python",
   "nbconvert_exporter": "python",
   "pygments_lexer": "ipython3",
   "version": "3.12.4"
  }
 },
 "nbformat": 4,
 "nbformat_minor": 5
}
