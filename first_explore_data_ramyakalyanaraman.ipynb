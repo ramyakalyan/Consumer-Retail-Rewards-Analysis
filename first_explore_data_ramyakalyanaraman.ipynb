{
 "cells": [
  {
   "cell_type": "code",
   "execution_count": 4,
   "id": "f54dc8fe-c6ab-48ec-b69b-0637de0d0005",
   "metadata": {},
   "outputs": [],
   "source": [
    "#Load the Data\n",
    "import pandas as pd\n",
    "\n",
    "# Load the CSV files\n",
    "users_df = pd.read_csv('C:/Data/Ramya Career/Resume/InterviewPrep/FETCH/USER.csv')\n",
    "products_df = pd.read_csv('C:/Data/Ramya Career/Resume/InterviewPrep/FETCH/PRODUCTS.csv')\n",
    "transactions_df = pd.read_csv('C:/Data/Ramya Career/Resume/InterviewPrep/FETCH/TRANSACTION.csv')\n",
    "\n"
   ]
  },
  {
   "cell_type": "code",
   "execution_count": 6,
   "id": "7057aaed-783d-4a14-b241-760d37f4b032",
   "metadata": {},
   "outputs": [],
   "source": [
    "# Standardize column names based on the ER diagram\n",
    "users_df.columns = ['id', 'created_date', 'birth_date', 'state', 'language', 'gender']\n",
    "products_df.columns = ['category_1', 'category_2', 'category_3', 'category_4', 'manufacturer', 'brand', 'barcode']\n",
    "transactions_df.columns = ['receipt_id', 'purchase_date', 'scan_date', 'store_name', 'user_id', 'barcode', 'quantity', 'sale']"
   ]
  },
  {
   "cell_type": "code",
   "execution_count": 8,
   "id": "1d2a9b7d-27ec-4556-854c-a215aabe73c6",
   "metadata": {},
   "outputs": [
    {
     "name": "stdout",
     "output_type": "stream",
     "text": [
      "Users DataFrame Sample:\n",
      "                         id               created_date  \\\n",
      "0  5ef3b4f17053ab141787697d  2020-06-24 20:17:54.000 Z   \n",
      "1  5ff220d383fcfc12622b96bc  2021-01-03 19:53:55.000 Z   \n",
      "2  6477950aa55bb77a0e27ee10  2023-05-31 18:42:18.000 Z   \n",
      "3  658a306e99b40f103b63ccf8  2023-12-26 01:46:22.000 Z   \n",
      "4  653cf5d6a225ea102b7ecdc2  2023-10-28 11:51:50.000 Z   \n",
      "\n",
      "                  birth_date state language  gender  \n",
      "0  2000-08-11 00:00:00.000 Z    CA   es-419  female  \n",
      "1  2001-09-24 04:00:00.000 Z    PA       en  female  \n",
      "2  1994-10-28 00:00:00.000 Z    FL   es-419  female  \n",
      "3                        NaN    NC       en     NaN  \n",
      "4  1972-03-19 00:00:00.000 Z    PA       en  female  \n",
      "\n",
      "Products DataFrame Sample:\n",
      "          category_1              category_2                   category_3  \\\n",
      "0  Health & Wellness           Sexual Health  Conductivity Gels & Lotions   \n",
      "1             Snacks           Puffed Snacks         Cheese Curls & Puffs   \n",
      "2  Health & Wellness               Hair Care        Hair Care Accessories   \n",
      "3  Health & Wellness               Oral Care                   Toothpaste   \n",
      "4  Health & Wellness  Medicines & Treatments               Essential Oils   \n",
      "\n",
      "  category_4                                       manufacturer  \\\n",
      "0        NaN                                                NaN   \n",
      "1        NaN                                                NaN   \n",
      "2        NaN                           PLACEHOLDER MANUFACTURER   \n",
      "3        NaN                                  COLGATE-PALMOLIVE   \n",
      "4        NaN  MAPLE HOLISTICS AND HONEYDEW PRODUCTS INTERCHA...   \n",
      "\n",
      "             brand       barcode  \n",
      "0              NaN  7.964944e+11  \n",
      "1              NaN  2.327801e+10  \n",
      "2          ELECSOP  4.618178e+11  \n",
      "3          COLGATE  3.500047e+10  \n",
      "4  MAPLE HOLISTICS  8.068109e+11  \n",
      "\n",
      "Transactions DataFrame Sample:\n",
      "                             receipt_id purchase_date  \\\n",
      "0  0000d256-4041-4a3e-adc4-5623fb6e0c99    2024-08-21   \n",
      "1  0001455d-7a92-4a7b-a1d2-c747af1c8fd3    2024-07-20   \n",
      "2  00017e0a-7851-42fb-bfab-0baa96e23586    2024-08-18   \n",
      "3  000239aa-3478-453d-801e-66a82e39c8af    2024-06-18   \n",
      "4  00026b4c-dfe8-49dd-b026-4c2f0fd5c6a1    2024-07-04   \n",
      "\n",
      "                   scan_date store_name                   user_id  \\\n",
      "0  2024-08-21 14:19:06.539 Z    WALMART  63b73a7f3d310dceeabd4758   \n",
      "1  2024-07-20 09:50:24.206 Z       ALDI  62c08877baa38d1a1f6c211a   \n",
      "2  2024-08-19 15:38:56.813 Z    WALMART  60842f207ac8b7729e472020   \n",
      "3  2024-06-19 11:03:37.468 Z  FOOD LION  63fcd7cea4f8442c3386b589   \n",
      "4  2024-07-05 15:56:43.549 Z   RANDALLS  6193231ae9b3d75037b0f928   \n",
      "\n",
      "        barcode quantity  sale  \n",
      "0  1.530001e+10     1.00        \n",
      "1           NaN     zero  1.49  \n",
      "2  7.874223e+10     1.00        \n",
      "3  7.833997e+11     zero  3.49  \n",
      "4  4.790050e+10     1.00        \n",
      "\n",
      "Users DataFrame Info:\n",
      "<class 'pandas.core.frame.DataFrame'>\n",
      "RangeIndex: 100000 entries, 0 to 99999\n",
      "Data columns (total 6 columns):\n",
      " #   Column        Non-Null Count   Dtype \n",
      "---  ------        --------------   ----- \n",
      " 0   id            100000 non-null  object\n",
      " 1   created_date  100000 non-null  object\n",
      " 2   birth_date    96325 non-null   object\n",
      " 3   state         95188 non-null   object\n",
      " 4   language      69492 non-null   object\n",
      " 5   gender        94108 non-null   object\n",
      "dtypes: object(6)\n",
      "memory usage: 4.6+ MB\n",
      "None\n",
      "\n",
      "Products DataFrame Info:\n",
      "<class 'pandas.core.frame.DataFrame'>\n",
      "RangeIndex: 845552 entries, 0 to 845551\n",
      "Data columns (total 7 columns):\n",
      " #   Column        Non-Null Count   Dtype  \n",
      "---  ------        --------------   -----  \n",
      " 0   category_1    845441 non-null  object \n",
      " 1   category_2    844128 non-null  object \n",
      " 2   category_3    784986 non-null  object \n",
      " 3   category_4    67459 non-null   object \n",
      " 4   manufacturer  619078 non-null  object \n",
      " 5   brand         619080 non-null  object \n",
      " 6   barcode       841527 non-null  float64\n",
      "dtypes: float64(1), object(6)\n",
      "memory usage: 45.2+ MB\n",
      "None\n",
      "\n",
      "Transactions DataFrame Info:\n",
      "<class 'pandas.core.frame.DataFrame'>\n",
      "RangeIndex: 50000 entries, 0 to 49999\n",
      "Data columns (total 8 columns):\n",
      " #   Column         Non-Null Count  Dtype  \n",
      "---  ------         --------------  -----  \n",
      " 0   receipt_id     50000 non-null  object \n",
      " 1   purchase_date  50000 non-null  object \n",
      " 2   scan_date      50000 non-null  object \n",
      " 3   store_name     50000 non-null  object \n",
      " 4   user_id        50000 non-null  object \n",
      " 5   barcode        44238 non-null  float64\n",
      " 6   quantity       50000 non-null  object \n",
      " 7   sale           50000 non-null  object \n",
      "dtypes: float64(1), object(7)\n",
      "memory usage: 3.1+ MB\n",
      "None\n"
     ]
    }
   ],
   "source": [
    "#Preliminary Exploration\n",
    "#Use basic functions to explore the structure and initial quality of the data.\n",
    "\n",
    "# Display the first few rows of each DataFrame\n",
    "print(\"Users DataFrame Sample:\")\n",
    "print(users_df.head())\n",
    "\n",
    "print(\"\\nProducts DataFrame Sample:\")\n",
    "print(products_df.head())\n",
    "\n",
    "print(\"\\nTransactions DataFrame Sample:\")\n",
    "print(transactions_df.head())\n",
    "\n",
    "# Get summary information for each DataFrame\n",
    "print(\"\\nUsers DataFrame Info:\")\n",
    "print(users_df.info())\n",
    "\n",
    "print(\"\\nProducts DataFrame Info:\")\n",
    "print(products_df.info())\n",
    "\n",
    "print(\"\\nTransactions DataFrame Info:\")\n",
    "print(transactions_df.info())\n"
   ]
  },
  {
   "cell_type": "code",
   "execution_count": 10,
   "id": "12ccc3f3-9809-4730-b051-0f5a62a2ee16",
   "metadata": {
    "scrolled": true
   },
   "outputs": [
    {
     "name": "stdout",
     "output_type": "stream",
     "text": [
      "Total Rows in Users DataFrame: 100000\n",
      "Missing values in Users DataFrame:\n",
      "id                  0\n",
      "created_date        0\n",
      "birth_date       3675\n",
      "state            4812\n",
      "language        30508\n",
      "gender           5892\n",
      "dtype: int64\n",
      "\n",
      "Total Rows in Products DataFrame: 845552\n",
      "Missing values in Products DataFrame:\n",
      "category_1         111\n",
      "category_2        1424\n",
      "category_3       60566\n",
      "category_4      778093\n",
      "manufacturer    226474\n",
      "brand           226472\n",
      "barcode           4025\n",
      "dtype: int64\n",
      "\n",
      "Total Rows in Transactions DataFrame: 50000\n",
      "Missing values in Transactions DataFrame:\n",
      "receipt_id          0\n",
      "purchase_date       0\n",
      "scan_date           0\n",
      "store_name          0\n",
      "user_id             0\n",
      "barcode          5762\n",
      "quantity            0\n",
      "sale                0\n",
      "dtype: int64\n"
     ]
    }
   ],
   "source": [
    "# Check for Total # of records & Missing Values\n",
    "\n",
    "# Total number of rows for each dataset\n",
    "users_row_count = users_df.shape[0]\n",
    "products_row_count = products_df.shape[0]\n",
    "transactions_row_count = transactions_df.shape[0]\n",
    "\n",
    "# Checking for missing values in each DataFrame\n",
    "users_missing_values = users_df.isna().sum()\n",
    "products_missing_values = products_df.isna().sum()\n",
    "transactions_missing_values = transactions_df.isna().sum()\n",
    "\n",
    "# Displaying the results\n",
    "print(f\"Total Rows in Users DataFrame: {users_row_count}\")\n",
    "print(\"Missing values in Users DataFrame:\")\n",
    "print(users_missing_values)\n",
    "\n",
    "print(f\"\\nTotal Rows in Products DataFrame: {products_row_count}\")\n",
    "print(\"Missing values in Products DataFrame:\")\n",
    "print(products_missing_values)\n",
    "\n",
    "print(f\"\\nTotal Rows in Transactions DataFrame: {transactions_row_count}\")\n",
    "print(\"Missing values in Transactions DataFrame:\")\n",
    "print(transactions_missing_values)"
   ]
  },
  {
   "cell_type": "code",
   "execution_count": 12,
   "id": "1a053df4-fb7e-41e7-bb41-ac008cd85a6c",
   "metadata": {},
   "outputs": [
    {
     "name": "stdout",
     "output_type": "stream",
     "text": [
      "Duplicate rows in Users DataFrame: 0\n",
      "Duplicate rows in Products DataFrame: 215\n",
      "Duplicate rows in Transactions DataFrame: 171\n"
     ]
    }
   ],
   "source": [
    "# Check for Duplicates\n",
    "# Check for duplicate rows\n",
    "print(\"Duplicate rows in Users DataFrame:\", users_df.duplicated().sum())\n",
    "print(\"Duplicate rows in Products DataFrame:\", products_df.duplicated().sum())\n",
    "print(\"Duplicate rows in Transactions DataFrame:\", transactions_df.duplicated().sum())"
   ]
  },
  {
   "cell_type": "code",
   "execution_count": 14,
   "id": "f97d25cb-cd4f-43be-8f4c-438ec89d57fa",
   "metadata": {
    "scrolled": true
   },
   "outputs": [
    {
     "name": "stdout",
     "output_type": "stream",
     "text": [
      "Data types in Users DataFrame:\n",
      "id              object\n",
      "created_date    object\n",
      "birth_date      object\n",
      "state           object\n",
      "language        object\n",
      "gender          object\n",
      "dtype: object\n",
      "\n",
      "Data types in Products DataFrame:\n",
      "category_1       object\n",
      "category_2       object\n",
      "category_3       object\n",
      "category_4       object\n",
      "manufacturer     object\n",
      "brand            object\n",
      "barcode         float64\n",
      "dtype: object\n",
      "\n",
      "Data types in Transactions DataFrame:\n",
      "receipt_id        object\n",
      "purchase_date     object\n",
      "scan_date         object\n",
      "store_name        object\n",
      "user_id           object\n",
      "barcode          float64\n",
      "quantity          object\n",
      "sale              object\n",
      "dtype: object\n"
     ]
    }
   ],
   "source": [
    "# Data Type Validation\n",
    "# Check data types for each DataFrame\n",
    "print(\"Data types in Users DataFrame:\")\n",
    "print(users_df.dtypes)\n",
    "\n",
    "print(\"\\nData types in Products DataFrame:\")\n",
    "print(products_df.dtypes)\n",
    "\n",
    "print(\"\\nData types in Transactions DataFrame:\")\n",
    "print(transactions_df.dtypes)\n"
   ]
  },
  {
   "cell_type": "code",
   "execution_count": 14,
   "id": "448e06b2-5009-4827-9fdf-40ae91c3ad02",
   "metadata": {},
   "outputs": [],
   "source": [
    "#Data Type Validation\n",
    "#Ensure the columns are in the correct data types as per the ER diagram, and convert them if necessary.\n",
    "# Convert dates to datetime format\n",
    "users_df['created_date'] = pd.to_datetime(users_df['created_date'], errors='coerce')\n",
    "users_df['birth_date'] = pd.to_datetime(users_df['birth_date'], errors='coerce')\n",
    "transactions_df['purchase_date'] = pd.to_datetime(transactions_df['purchase_date'], errors='coerce')\n",
    "transactions_df['scan_date'] = pd.to_datetime(transactions_df['scan_date'], errors='coerce')\n",
    "\n",
    "# Convert numeric fields\n",
    "# Replace specific terms like 'zero' with 0 before conversion\n",
    "transactions_df['quantity'] = transactions_df['quantity'].replace({'zero': '0'})\n",
    "transactions_df['quantity'] = pd.to_numeric(transactions_df['quantity'], errors='coerce')\n",
    "transactions_df['sale'] = pd.to_numeric(transactions_df['sale'], errors='coerce')\n"
   ]
  },
  {
   "cell_type": "code",
   "execution_count": 16,
   "id": "4d1ccfd6-bea4-4bfa-9719-d82aca97f3cb",
   "metadata": {},
   "outputs": [
    {
     "name": "stdout",
     "output_type": "stream",
     "text": [
      "Summary Statistics for Users Data:\n",
      "                              id               created_date  \\\n",
      "count                     100000                     100000   \n",
      "unique                    100000                      99942   \n",
      "top     5ef3b4f17053ab141787697d  2023-01-12 18:30:15.000 Z   \n",
      "freq                           1                          2   \n",
      "\n",
      "                       birth_date  state language  gender  \n",
      "count                       96325  95188    69492   94108  \n",
      "unique                      54721     52        2      11  \n",
      "top     1970-01-01 00:00:00.000 Z     TX       en  female  \n",
      "freq                         1272   9028    63403   64240   \n",
      "\n",
      "Summary Statistics for Transactions Data:\n",
      "                                  receipt_id purchase_date  \\\n",
      "count                                  50000         50000   \n",
      "unique                                 24440            89   \n",
      "top     bedac253-2256-461b-96af-267748e6cecf    2024-06-15   \n",
      "freq                                      12           774   \n",
      "mean                                     NaN           NaN   \n",
      "std                                      NaN           NaN   \n",
      "min                                      NaN           NaN   \n",
      "25%                                      NaN           NaN   \n",
      "50%                                      NaN           NaN   \n",
      "75%                                      NaN           NaN   \n",
      "max                                      NaN           NaN   \n",
      "\n",
      "                        scan_date store_name                   user_id  \\\n",
      "count                       50000      50000                     50000   \n",
      "unique                      24440        954                     17694   \n",
      "top     2024-09-08 20:00:42.348 Z    WALMART  64e62de5ca929250373e6cf5   \n",
      "freq                           12      21326                        22   \n",
      "mean                          NaN        NaN                       NaN   \n",
      "std                           NaN        NaN                       NaN   \n",
      "min                           NaN        NaN                       NaN   \n",
      "25%                           NaN        NaN                       NaN   \n",
      "50%                           NaN        NaN                       NaN   \n",
      "75%                           NaN        NaN                       NaN   \n",
      "max                           NaN        NaN                       NaN   \n",
      "\n",
      "             barcode quantity   sale  \n",
      "count   4.423800e+04    50000  50000  \n",
      "unique           NaN       87   1435  \n",
      "top              NaN     1.00         \n",
      "freq             NaN    35698  12500  \n",
      "mean    1.715863e+11      NaN    NaN  \n",
      "std     3.269219e+11      NaN    NaN  \n",
      "min    -1.000000e+00      NaN    NaN  \n",
      "25%     3.077212e+10      NaN    NaN  \n",
      "50%     5.210004e+10      NaN    NaN  \n",
      "75%     8.536765e+10      NaN    NaN  \n",
      "max     9.347108e+12      NaN    NaN   \n",
      "\n",
      "Summary Statistics for Products Data:\n",
      "               category_1 category_2        category_3 category_4  \\\n",
      "count              845441     844128            784986      67459   \n",
      "unique                 27        121               344        127   \n",
      "top     Health & Wellness      Candy  Confection Candy  Lip Balms   \n",
      "freq               512695     121036             56965       9737   \n",
      "mean                  NaN        NaN               NaN        NaN   \n",
      "std                   NaN        NaN               NaN        NaN   \n",
      "min                   NaN        NaN               NaN        NaN   \n",
      "25%                   NaN        NaN               NaN        NaN   \n",
      "50%                   NaN        NaN               NaN        NaN   \n",
      "75%                   NaN        NaN               NaN        NaN   \n",
      "max                   NaN        NaN               NaN        NaN   \n",
      "\n",
      "                    manufacturer      brand       barcode  \n",
      "count                     619078     619080  8.415270e+05  \n",
      "unique                      4354       8122           NaN  \n",
      "top     PLACEHOLDER MANUFACTURER  REM BRAND           NaN  \n",
      "freq                       86902      20813           NaN  \n",
      "mean                         NaN        NaN  6.016109e+11  \n",
      "std                          NaN        NaN  1.022530e+12  \n",
      "min                          NaN        NaN  1.850000e+02  \n",
      "25%                          NaN        NaN  7.124923e+10  \n",
      "50%                          NaN        NaN  6.344185e+11  \n",
      "75%                          NaN        NaN  7.683955e+11  \n",
      "max                          NaN        NaN  6.291108e+13   \n",
      "\n"
     ]
    }
   ],
   "source": [
    "# Summary statistics to identify outliers\n",
    "print(\"Summary Statistics for Users Data:\")\n",
    "print(users_df.describe(include='all'), \"\\n\")\n",
    "\n",
    "print(\"Summary Statistics for Transactions Data:\")\n",
    "print(transactions_df.describe(include='all'), \"\\n\")\n",
    "\n",
    "print(\"Summary Statistics for Products Data:\")\n",
    "print(products_df.describe(include='all'), \"\\n\")"
   ]
  },
  {
   "cell_type": "code",
   "execution_count": 16,
   "id": "479a919a-6f60-4d5a-9e2c-1efc60f45b20",
   "metadata": {},
   "outputs": [
    {
     "name": "stdout",
     "output_type": "stream",
     "text": [
      "Transactions with missing user information: 49738\n",
      "Transactions with missing product information: 19408\n"
     ]
    }
   ],
   "source": [
    "# Foreign Key Consistency\n",
    "#Verify that all foreign keys in transactions match the primary keys in users and products\n",
    "# Check if all user_ids in transactions exist in users\n",
    "missing_users = transactions_df[~transactions_df['user_id'].isin(users_df['id'])]\n",
    "print(\"Transactions with missing user information:\", len(missing_users))\n",
    "\n",
    "# Check if all barcodes in transactions exist in products\n",
    "missing_products = transactions_df[~transactions_df['barcode'].isin(products_df['barcode'])]\n",
    "print(\"Transactions with missing product information:\", len(missing_products))\n"
   ]
  },
  {
   "cell_type": "code",
   "execution_count": 18,
   "id": "7d98c91e-7954-454d-a5d5-0bbb75c8b0c0",
   "metadata": {},
   "outputs": [
    {
     "name": "stdout",
     "output_type": "stream",
     "text": [
      "Transactions with invalid quantities: 12500\n",
      "Transactions with future purchase dates: 0\n"
     ]
    }
   ],
   "source": [
    "# Check for invalid quantities\n",
    "invalid_quantities = transactions_df[transactions_df['quantity'] <= 0]\n",
    "print(\"Transactions with invalid quantities:\", len(invalid_quantities))\n",
    "\n",
    "# Check for future purchase dates\n",
    "future_dates = transactions_df[transactions_df['purchase_date'] > pd.Timestamp.now()]\n",
    "print(\"Transactions with future purchase dates:\", len(future_dates))\n"
   ]
  },
  {
   "cell_type": "code",
   "execution_count": 20,
   "id": "d48fdc9f-a2fc-4841-a09e-c27b86f5e121",
   "metadata": {},
   "outputs": [
    {
     "name": "stdout",
     "output_type": "stream",
     "text": [
      "Unique user IDs in users table: 100000\n",
      "Unique user IDs in transactions table: 17694\n"
     ]
    }
   ],
   "source": [
    "# Calculate the number of unique user IDs in users and transactions DataFrames\n",
    "unique_users_in_users = users_df['id'].nunique()\n",
    "unique_users_in_transactions = transactions_df['user_id'].nunique()\n",
    "\n",
    "print(\"Unique user IDs in users table:\", unique_users_in_users)\n",
    "print(\"Unique user IDs in transactions table:\", unique_users_in_transactions)\n"
   ]
  },
  {
   "cell_type": "code",
   "execution_count": 395,
   "id": "ba8b1fe7-26dd-4f25-a6a2-2d6f7163a58b",
   "metadata": {},
   "outputs": [
    {
     "name": "stdout",
     "output_type": "stream",
     "text": [
      "Total Rows in Users DataFrame: 100000\n",
      "Missing values in Users DataFrame:\n",
      "id                  0\n",
      "created_date        0\n",
      "birth_date       3675\n",
      "state            4812\n",
      "language        30508\n",
      "gender           5892\n",
      "dtype: int64\n",
      "Missing % in Users DataFrame:\n",
      "id               0.000\n",
      "created_date     0.000\n",
      "birth_date       3.675\n",
      "state            4.812\n",
      "language        30.508\n",
      "gender           5.892\n",
      "dtype: float64\n",
      "\n",
      "Total Rows in Transactions DataFrame: 50000\n",
      "Missing values in Transactions DataFrame:\n",
      "receipt_id           0\n",
      "purchase_date        0\n",
      "scan_date            0\n",
      "store_name           0\n",
      "user_id              0\n",
      "barcode           5762\n",
      "quantity             0\n",
      "sale             12500\n",
      "dtype: int64\n",
      "Missing % in Transactions DataFrame:\n",
      "receipt_id        0.000\n",
      "purchase_date     0.000\n",
      "scan_date         0.000\n",
      "store_name        0.000\n",
      "user_id           0.000\n",
      "barcode          11.524\n",
      "quantity          0.000\n",
      "sale             25.000\n",
      "dtype: float64\n",
      "\n",
      "Total Rows in Products DataFrame: 845552\n",
      "Missing values in Products DataFrame:\n",
      "category_1         111\n",
      "category_2        1424\n",
      "category_3       60566\n",
      "category_4      778093\n",
      "manufacturer    226474\n",
      "brand           226472\n",
      "barcode           4025\n",
      "dtype: int64\n",
      "Missing % in Products DataFrame:\n",
      "category_1       0.013128\n",
      "category_2       0.168411\n",
      "category_3       7.162895\n",
      "category_4      92.021898\n",
      "manufacturer    26.784160\n",
      "brand           26.783923\n",
      "barcode          0.476020\n",
      "dtype: float64\n"
     ]
    },
    {
     "data": {
      "image/png": "[encoded data removed]",
      "text/plain": [
       "<Figure size 1000x600 with 1 Axes>"
      ]
     },
     "metadata": {},
     "output_type": "display_data"
    },
    {
     "data": {
      "image/png": "[encoded data removed]",
      "text/plain": [
       "<Figure size 1000x600 with 1 Axes>"
      ]
     },
     "metadata": {},
     "output_type": "display_data"
    },
    {
     "data": {
      "image/png": "[encoded data removed]",
      "text/plain": [
       "<Figure size 1000x600 with 1 Axes>"
      ]
     },
     "metadata": {},
     "output_type": "display_data"
    }
   ],
   "source": [
    "import matplotlib.pyplot as plt\n",
    "\n",
    "# Total number of records in each dataset\n",
    "users_row_count = users_df.shape[0]\n",
    "products_row_count = products_df.shape[0]\n",
    "transactions_row_count = transactions_df.shape[0]\n",
    "\n",
    "# Checking for missing values in each column in the dataset\n",
    "users_missing_values = users_df.isna().sum()\n",
    "products_missing_values = products_df.isna().sum()\n",
    "transactions_missing_values = transactions_df.isna().sum()\n",
    "\n",
    "# Calculate the percentage of missing values in each column in the dataset\n",
    "users_missing_percentage = (users_missing_values / users_row_count) * 100\n",
    "products_missing_percentage = (products_missing_values / products_row_count) * 100\n",
    "transactions_missing_percentage = (transactions_missing_values / transactions_row_count) * 100\n",
    "\n",
    "# Displaying the results\n",
    "print(f\"Total Rows in Users DataFrame: {users_row_count}\")\n",
    "print(\"Missing values in Users DataFrame:\")\n",
    "print(users_missing_values)\n",
    "print(\"Missing % in Users DataFrame:\")\n",
    "print(users_missing_percentage)\n",
    "\n",
    "print(f\"\\nTotal Rows in Transactions DataFrame: {transactions_row_count}\")\n",
    "print(\"Missing values in Transactions DataFrame:\")\n",
    "print(transactions_missing_values)\n",
    "print(\"Missing % in Transactions DataFrame:\")\n",
    "print(transactions_missing_percentage)\n",
    "\n",
    "print(f\"\\nTotal Rows in Products DataFrame: {products_row_count}\")\n",
    "print(\"Missing values in Products DataFrame:\")\n",
    "print(products_missing_values)\n",
    "print(\"Missing % in Products DataFrame:\")\n",
    "print(products_missing_percentage)\n",
    "\n",
    "\n",
    "\n",
    "# Plotting the missing values percentage for Users dataset\n",
    "plt.figure(figsize=(10, 6))\n",
    "users_missing_percentage.plot(kind='bar', color='skyblue')\n",
    "plt.title('Percentage of Missing Values in Users Dataset')\n",
    "plt.xlabel('Columns')\n",
    "plt.ylabel('Percentage of Missing Values')\n",
    "plt.xticks(rotation=45)\n",
    "plt.tight_layout()\n",
    "plt.show()\n",
    "\n",
    "# Plotting the missing values percentage for Products dataset\n",
    "plt.figure(figsize=(10, 6))\n",
    "products_missing_percentage.plot(kind='bar', color='lightcoral')\n",
    "plt.title('Percentage of Missing Values in Products Dataset')\n",
    "plt.xlabel('Columns')\n",
    "plt.ylabel('Percentage of Missing Values')\n",
    "plt.xticks(rotation=45)\n",
    "plt.tight_layout()\n",
    "plt.show()\n",
    "\n",
    "# Plotting the missing values percentage for Transactions dataset\n",
    "plt.figure(figsize=(10, 6))\n",
    "transactions_missing_percentage.plot(kind='bar', color='lightgreen')\n",
    "plt.title('Percentage of Missing Values in Transactions Dataset')\n",
    "plt.xlabel('Columns')\n",
    "plt.ylabel('Percentage of Missing Values')\n",
    "plt.xticks(rotation=45)\n",
    "plt.tight_layout()\n",
    "plt.show()\n"
   ]
  },
  {
   "cell_type": "code",
   "execution_count": 22,
   "id": "7a10d82c-b6b9-4ba6-9dfa-61b736bb3f93",
   "metadata": {},
   "outputs": [
    {
     "name": "stdout",
     "output_type": "stream",
     "text": [
      "Duplicate rows in Users DataFrame: 0\n",
      "Duplicate rows in Products DataFrame: 215\n",
      "Duplicate rows in Transactions DataFrame: 171\n"
     ]
    }
   ],
   "source": [
    "# Check for Duplicates\n",
    "# Check for duplicate rows\n",
    "print(\"Duplicate rows in Users DataFrame:\", users_df['id'].duplicated().sum())\n",
    "print(\"Duplicate rows in Products DataFrame:\", products_df.duplicated().sum())\n",
    "print(\"Duplicate rows in Transactions DataFrame:\", transactions_df.duplicated().sum())"
   ]
  },
  {
   "cell_type": "code",
   "execution_count": 24,
   "id": "f1da9ead-38f3-4880-8957-35fb59e7e809",
   "metadata": {},
   "outputs": [
    {
     "name": "stdout",
     "output_type": "stream",
     "text": [
      "id length distribution:\n",
      " id\n",
      "24    100000\n",
      "Name: count, dtype: int64\n"
     ]
    }
   ],
   "source": [
    "# Calculate the length of each ID and display the count of each unique length\n",
    "id_lengths = users_df['id'].apply(len)\n",
    "\n",
    "print(\"id length distribution:\\n\", id_lengths.value_counts())\n",
    "\n"
   ]
  },
  {
   "cell_type": "code",
   "execution_count": 30,
   "id": "cba0da60-7d8c-4698-b2be-dad6f0fdc5b8",
   "metadata": {},
   "outputs": [
    {
     "ename": "NameError",
     "evalue": "name 'datetime' is not defined",
     "output_type": "error",
     "traceback": [
      "\u001b[1;31m---------------------------------------------------------------------------\u001b[0m",
      "\u001b[1;31mNameError\u001b[0m                                 Traceback (most recent call last)",
      "Cell \u001b[1;32mIn[30], line 5\u001b[0m\n\u001b[0;32m      2\u001b[0m users_df[\u001b[38;5;124m'\u001b[39m\u001b[38;5;124mcreated_date\u001b[39m\u001b[38;5;124m'\u001b[39m] \u001b[38;5;241m=\u001b[39m pd\u001b[38;5;241m.\u001b[39mto_datetime(users_df[\u001b[38;5;124m'\u001b[39m\u001b[38;5;124mcreated_date\u001b[39m\u001b[38;5;124m'\u001b[39m], errors\u001b[38;5;241m=\u001b[39m\u001b[38;5;124m'\u001b[39m\u001b[38;5;124mcoerce\u001b[39m\u001b[38;5;124m'\u001b[39m)\u001b[38;5;241m.\u001b[39mdt\u001b[38;5;241m.\u001b[39mtz_localize(\u001b[38;5;28;01mNone\u001b[39;00m)\n\u001b[0;32m      4\u001b[0m \u001b[38;5;66;03m# Filter for any future dates\u001b[39;00m\n\u001b[1;32m----> 5\u001b[0m future_dates \u001b[38;5;241m=\u001b[39m users_df[users_df[\u001b[38;5;124m'\u001b[39m\u001b[38;5;124mcreated_date\u001b[39m\u001b[38;5;124m'\u001b[39m] \u001b[38;5;241m>\u001b[39m datetime\u001b[38;5;241m.\u001b[39mnow()]\n\u001b[0;32m      6\u001b[0m future_dates_count \u001b[38;5;241m=\u001b[39m future_dates\u001b[38;5;241m.\u001b[39mshape[\u001b[38;5;241m0\u001b[39m]  \u001b[38;5;66;03m# Count of rows with future dates\u001b[39;00m\n\u001b[0;32m      8\u001b[0m \u001b[38;5;66;03m# Check if any created_date values are timezone-aware\u001b[39;00m\n",
      "\u001b[1;31mNameError\u001b[0m: name 'datetime' is not defined"
     ]
    }
   ],
   "source": [
    "# Convert created_date to datetime format without timezone info\n",
    "users_df['created_date'] = pd.to_datetime(users_df['created_date'], errors='coerce').dt.tz_localize(None)\n",
    "\n",
    "# Filter for any future dates\n",
    "future_dates = users_df[users_df['created_date'] > datetime.now()]\n",
    "future_dates_count = future_dates.shape[0]  # Count of rows with future dates\n",
    "\n",
    "# Check if any created_date values are timezone-aware\n",
    "timezone_info = users_df['created_date'].apply(lambda x: x.tzinfo is not None)\n",
    "\n",
    "# Count rows with timezone-aware created_date\n",
    "timezone_aware_count = timezone_info.sum()\n",
    "\n",
    "# Print values\n",
    "print(f\"Rows with future created_date: {future_dates_count}\")\n",
    "print(f\"Rows with timezone-aware created_date: {timezone_aware_count}\")\n"
   ]
  },
  {
   "cell_type": "code",
   "execution_count": 28,
   "id": "6fff3a1b-2102-4de5-91f0-d2b0404c71c6",
   "metadata": {},
   "outputs": [
    {
     "ename": "NameError",
     "evalue": "name 'today' is not defined",
     "output_type": "error",
     "traceback": [
      "\u001b[1;31m---------------------------------------------------------------------------\u001b[0m",
      "\u001b[1;31mNameError\u001b[0m                                 Traceback (most recent call last)",
      "Cell \u001b[1;32mIn[28], line 2\u001b[0m\n\u001b[0;32m      1\u001b[0m \u001b[38;5;66;03m# Define minimum and maximum birth year\u001b[39;00m\n\u001b[1;32m----> 2\u001b[0m min_birth_year \u001b[38;5;241m=\u001b[39m today\u001b[38;5;241m.\u001b[39myear \u001b[38;5;241m-\u001b[39m \u001b[38;5;241m100\u001b[39m  \u001b[38;5;66;03m# Maximum age is 100 years\u001b[39;00m\n\u001b[0;32m      3\u001b[0m max_birth_year \u001b[38;5;241m=\u001b[39m today\u001b[38;5;241m.\u001b[39myear        \u001b[38;5;66;03m# Minimum age is 0 years\u001b[39;00m\n\u001b[0;32m      5\u001b[0m \u001b[38;5;66;03m# Filter for outliers in 'birth_date'\u001b[39;00m\n",
      "\u001b[1;31mNameError\u001b[0m: name 'today' is not defined"
     ]
    }
   ],
   "source": [
    "# Define minimum and maximum birth year\n",
    "min_birth_year = today.year - 100  # Maximum age is 100 years\n",
    "max_birth_year = today.year        # Minimum age is 0 years\n",
    "\n",
    "# Filter for outliers in 'birth_date'\n",
    "birth_date_outliers = users_df[\n",
    "    (users_df['birth_date'].dt.year < min_birth_year) |\n",
    "    (users_df['birth_date'].dt.year > max_birth_year)\n",
    "]\n",
    "\n",
    "invalid_birth_date_count = len(birth_date_outliers)\n",
    "print(\"Number of records with invalid 'birth_date':\", invalid_birth_date_count)\n"
   ]
  },
  {
   "cell_type": "code",
   "execution_count": 32,
   "id": "aebeabdc-1b16-485f-8ac6-e0b3e771553a",
   "metadata": {},
   "outputs": [
    {
     "name": "stdout",
     "output_type": "stream",
     "text": [
      "Birth dates that are frequently repeated (above 90th percentile):\n",
      "birth_date\n",
      "1970-01-01 00:00:00+00:00    1272\n",
      "1979-12-11 08:00:00+00:00      63\n",
      "2000-12-12 00:00:00+00:00      28\n",
      "2000-12-31 00:00:00+00:00      23\n",
      "2001-01-01 00:00:00+00:00      16\n",
      "1999-12-31 00:00:00+00:00      15\n",
      "1988-10-28 04:00:00+00:00      15\n",
      "1999-12-12 00:00:00+00:00      14\n",
      "2000-12-11 00:00:00+00:00      14\n",
      "1990-01-01 00:00:00+00:00      14\n",
      "Name: count, dtype: int64\n"
     ]
    }
   ],
   "source": [
    "# Calculate the frequency of each birth date\n",
    "birth_date_counts = users_df['birth_date'].value_counts()\n",
    "\n",
    "# Find the 90th percentile of these frequencies\n",
    "threshold = birth_date_counts.quantile(0.90)\n",
    "\n",
    "# Filter for birth dates that are repeated above the 90th percentile\n",
    "frequent_birth_dates = birth_date_counts[birth_date_counts > threshold].head(10)\n",
    "\n",
    "# Display the result\n",
    "print(\"Birth dates that are frequently repeated (above 90th percentile):\")\n",
    "print(frequent_birth_dates)\n"
   ]
  },
  {
   "cell_type": "code",
   "execution_count": 34,
   "id": "ef4dfb13-3c05-441d-85dc-282c80ac75b0",
   "metadata": {
    "scrolled": true
   },
   "outputs": [
    {
     "name": "stdout",
     "output_type": "stream",
     "text": [
      "Records with other categories in the gender field:\n",
      " gender\n",
      "transgender               1772\n",
      "prefer_not_to_say         1350\n",
      "non_binary                 473\n",
      "unknown                    196\n",
      "not_listed                 180\n",
      "Non-Binary                  34\n",
      "not_specified               28\n",
      "My gender isn't listed       5\n",
      "Prefer not to say            1\n",
      "Name: count, dtype: int64\n"
     ]
    }
   ],
   "source": [
    "# Expected gender values in the correct format\n",
    "valid_genders = ['male', 'female', 'non-binary', \"my gender isn't listed\", 'prefer not to say']\n",
    "\n",
    "# Check for values that don't match the exact expected format\n",
    "incorrect_category_genders = users_df[~users_df['gender'].isin(valid_genders)]\n",
    "\n",
    "# Display results\n",
    "if not incorrect_category_genders.empty:\n",
    "    print(\"Records with other categories in the gender field:\\n\", incorrect_category_genders['gender'].value_counts())"
   ]
  },
  {
   "cell_type": "code",
   "execution_count": 70,
   "id": "363d73e0-07b0-4201-8ea6-8df965e002e0",
   "metadata": {
    "collapsed": true,
    "jupyter": {
     "outputs_hidden": true,
     "source_hidden": true
    }
   },
   "outputs": [
    {
     "name": "stdout",
     "output_type": "stream",
     "text": [
      "receipt_id           0\n",
      "purchase_date        0\n",
      "scan_date            0\n",
      "store_name           0\n",
      "user_id              0\n",
      "barcode           1457\n",
      "quantity             0\n",
      "sale             12500\n",
      "dtype: int64\n"
     ]
    }
   ],
   "source": [
    "# Filter rows where 'sales' is missing\n",
    "missing_sales_df = transactions_df[transactions_df['sale'].isna()]\n",
    "\n",
    "# Check for missing values in other columns for these rows\n",
    "missing_in_other_columns = missing_sales_df.isna().sum()\n",
    "\n",
    "print(missing_in_other_columns)\n"
   ]
  },
  {
   "cell_type": "code",
   "execution_count": 50,
   "id": "29ded9b1-b5e7-46d0-a92e-51a86cf8dae3",
   "metadata": {
    "collapsed": true,
    "jupyter": {
     "outputs_hidden": true,
     "source_hidden": true
    }
   },
   "outputs": [
    {
     "data": {
      "text/plain": [
       "category_1         0\n",
       "category_2       763\n",
       "category_3      1852\n",
       "category_4      3802\n",
       "manufacturer     247\n",
       "brand            247\n",
       "barcode         4025\n",
       "dtype: int64"
      ]
     },
     "execution_count": 50,
     "metadata": {},
     "output_type": "execute_result"
    }
   ],
   "source": [
    "import pandas as pd\n",
    "\n",
    "# Analyzing if other fields have data when BARCODE is missing in the products table\n",
    "missing_barcode_data = products_df[products_df['barcode'].isna()].isna().sum()\n",
    "\n",
    "# Displaying the result for missing values in rows where BARCODE is missing\n",
    "missing_barcode_data\n"
   ]
  },
  {
   "cell_type": "code",
   "execution_count": 188,
   "id": "76a06ee8-e18e-4f85-83b8-33b6f306fa88",
   "metadata": {
    "collapsed": true,
    "jupyter": {
     "outputs_hidden": true,
     "source_hidden": true
    }
   },
   "outputs": [
    {
     "name": "stdout",
     "output_type": "stream",
     "text": [
      "Birth years that are repeated frequently:\n",
      "birth_date\n",
      "1970.0    2640\n",
      "1979.0    1981\n",
      "1980.0    3355\n",
      "1981.0    2915\n",
      "1982.0    3155\n",
      "1983.0    2213\n",
      "1984.0    1863\n",
      "1985.0    1910\n",
      "1986.0    1859\n",
      "1987.0    1940\n",
      "1988.0    2019\n",
      "1989.0    1951\n",
      "1990.0    2310\n",
      "1991.0    2111\n",
      "1992.0    1980\n",
      "1994.0    1881\n",
      "1995.0    1971\n",
      "1998.0    1991\n",
      "1999.0    2764\n",
      "2000.0    5775\n",
      "2001.0    2560\n",
      "2002.0    2397\n",
      "2003.0    2115\n",
      "2004.0    1869\n",
      "Name: count, dtype: int64\n"
     ]
    }
   ],
   "source": [
    "# Calculate the mean and standard deviation of the birth year counts\n",
    "mean_count = birth_year_counts.mean()\n",
    "std_dev_count = birth_year_counts.std()\n",
    "\n",
    "# Define a threshold for \"frequently repeated\" as counts greater than (mean + std deviation)\n",
    "threshold = mean_count + std_dev_count\n",
    "\n",
    "# Filter birth years with counts above the threshold\n",
    "frequent_birth_years = birth_year_counts[birth_year_counts > threshold]\n",
    "\n",
    "print(\"Birth years that are repeated frequently:\")\n",
    "print(frequent_birth_years)\n"
   ]
  },
  {
   "cell_type": "code",
   "execution_count": 36,
   "id": "58be976b-5b60-4eba-9592-5dd63b429e78",
   "metadata": {},
   "outputs": [
    {
     "name": "stdout",
     "output_type": "stream",
     "text": [
      "All state codes are valid.\n"
     ]
    }
   ],
   "source": [
    "# Expected two-letter state codes (using US states as an example)\n",
    "valid_state_codes = {\n",
    "    'AL', 'AK', 'AZ', 'AR', 'CA', 'CO', 'CT', 'DE', 'DC', 'FL', 'GA', \n",
    "    'HI', 'ID', 'IL', 'IN', 'IA', 'KS', 'KY', 'LA', 'ME', 'MD', \n",
    "    'MA', 'MI', 'MN', 'MS', 'MO', 'MT', 'NE', 'NV', 'NH', 'NJ', \n",
    "    'NM', 'NY', 'NC', 'ND', 'OH', 'OK', 'OR', 'PA', 'PR', 'RI', 'SC', \n",
    "    'SD', 'TN', 'TX', 'UT', 'VT', 'VA', 'WA', 'WV', 'WI', 'WY'\n",
    "}\n",
    "\n",
    "# Check for values that don't match the exact expected state codes and exclude null or empty values\n",
    "incorrect_state_codes = users_df[~users_df['state'].isin(valid_state_codes) & \n",
    "users_df['state'].notna() & \n",
    "(users_df['state'] != '')]\n",
    "\n",
    "# Display results\n",
    "if not incorrect_state_codes.empty:\n",
    "    print(\"Records with other categories in the state field:\\n\", incorrect_state_codes['state'].value_counts())\n",
    "else:\n",
    "    print(\"All state codes are valid.\")\n"
   ]
  },
  {
   "cell_type": "code",
   "execution_count": 455,
   "id": "7c18ae99-218d-43c0-976c-f5a0c75900c3",
   "metadata": {},
   "outputs": [
    {
     "name": "stdout",
     "output_type": "stream",
     "text": [
      "Count of each language:\n",
      "language\n",
      "en        63403\n",
      "es-419     6089\n",
      "Name: count, dtype: int64\n"
     ]
    }
   ],
   "source": [
    "# Count occurrences of each language, including both valid and invalid codes\n",
    "language_counts = users_df['language'].value_counts()\n",
    "\n",
    "print(\"Count of each language:\")\n",
    "print(language_counts)\n"
   ]
  },
  {
   "cell_type": "code",
   "execution_count": 38,
   "id": "a628d05b-054b-4627-956c-fb249ec4b430",
   "metadata": {},
   "outputs": [
    {
     "name": "stdout",
     "output_type": "stream",
     "text": [
      "Rows with hierarchical inconsistencies in categories:\n",
      " Empty DataFrame\n",
      "Columns: [category_1, category_2, category_3, category_4, manufacturer, brand, barcode]\n",
      "Index: []\n"
     ]
    }
   ],
   "source": [
    "# Check for hierarchical consistency\n",
    "# For each row, verify that if category_2 is present, category_1 should also be present,\n",
    "# if category_3 is present, then category_1 and category_2 should also be present, etc.\n",
    "\n",
    "# Identify rows where there are hierarchical inconsistencies\n",
    "category_inconsistencies = products_df[\n",
    "    (products_df['category_2'].notna() & products_df['category_1'].isna()) |\n",
    "    (products_df['category_3'].notna() & (products_df['category_1'].isna() | products_df['category_2'].isna())) |\n",
    "    (products_df['category_4'].notna() & (products_df['category_1'].isna() | products_df['category_2'].isna() | \n",
    "                                        products_df['category_3'].isna()))\n",
    "]\n",
    "\n",
    "# Display rows with hierarchical inconsistencies\n",
    "print(\"Rows with hierarchical inconsistencies in categories:\\n\", category_inconsistencies)\n"
   ]
  },
  {
   "cell_type": "code",
   "execution_count": 40,
   "id": "ee03af55-2de0-4a38-9554-f0471e15b1d2",
   "metadata": {},
   "outputs": [
    {
     "name": "stdout",
     "output_type": "stream",
     "text": [
      "Number of records where brand is missing but manufacturer is present: 0\n",
      "Number of records where manufacturer is missing but brand is present: 2\n"
     ]
    }
   ],
   "source": [
    "# Count cases where brand is missing but manufacturer is present\n",
    "missing_brand_with_manufacturer = products_df[products_df['brand'].isna() & products_df['manufacturer'].notna()].shape[0]\n",
    "\n",
    "# Count cases where manufacturer is missing but brand is present\n",
    "missing_manufacturer_with_brand = products_df[products_df['manufacturer'].isna() & products_df['brand'].notna()].shape[0]\n",
    "\n",
    "# Display the results\n",
    "print(\"Number of records where brand is missing but manufacturer is present:\", missing_brand_with_manufacturer)\n",
    "print(\"Number of records where manufacturer is missing but brand is present:\", missing_manufacturer_with_brand)\n"
   ]
  },
  {
   "cell_type": "code",
   "execution_count": 42,
   "id": "5b3be40b-7e87-4286-a952-1c9318014344",
   "metadata": {},
   "outputs": [
    {
     "name": "stdout",
     "output_type": "stream",
     "text": [
      "Counts of each barcode length:\n",
      " barcode\n",
      "14    502091\n",
      "13    296376\n",
      "15     30144\n",
      "12      7591\n",
      "10      1907\n",
      "11      1762\n",
      "9        950\n",
      "8        570\n",
      "7         83\n",
      "16        44\n",
      "6          8\n",
      "5          1\n",
      "Name: count, dtype: int64\n"
     ]
    }
   ],
   "source": [
    "# Ensure 'barcode' is treated as a string to calculate length, then count occurrences by length\n",
    "barcode_lengths = products_df['barcode'].dropna().astype(str).apply(len)\n",
    "barcode_length_counts = barcode_lengths.value_counts()\n",
    "\n",
    "# Display the counts for each barcode length\n",
    "print(\"Counts of each barcode length:\\n\", barcode_length_counts)\n"
   ]
  },
  {
   "cell_type": "code",
   "execution_count": 222,
   "id": "297036f8-60f8-4547-9fac-84f20520d616",
   "metadata": {
    "collapsed": true,
    "jupyter": {
     "outputs_hidden": true,
     "source_hidden": true
    }
   },
   "outputs": [
    {
     "name": "stdout",
     "output_type": "stream",
     "text": [
      "Number of records with at least one missing value in category fields: 778093\n"
     ]
    }
   ],
   "source": [
    "# Count the number of records with at least one missing value in any of the category fields\n",
    "missing_category_count = products_df[['category_1', 'category_2', 'category_3', 'category_4']].isna().any(axis=1).sum()\n",
    "\n",
    "print(\"Number of records with at least one missing value in category fields:\", missing_category_count)\n"
   ]
  },
  {
   "cell_type": "code",
   "execution_count": 224,
   "id": "fc688d73-111c-4e5d-9715-c39edff6bf48",
   "metadata": {
    "collapsed": true,
    "jupyter": {
     "outputs_hidden": true,
     "source_hidden": true
    }
   },
   "outputs": [
    {
     "name": "stdout",
     "output_type": "stream",
     "text": [
      "Unique values in category_1:\n",
      " ['health & wellness' 'snacks' 'beverages' 'pantry' 'alcohol'\n",
      " 'apparel & accessories' 'restaurant' 'needs review' 'dairy'\n",
      " 'home & garden' nan 'household supplies' 'meat & seafood' 'deli & bakery'\n",
      " 'sporting goods' 'produce' 'office & school' 'frozen'\n",
      " 'arts & entertainment' 'animals & pet supplies' 'electronics' 'beauty'\n",
      " 'toys & games' 'mature' 'vehicles & parts' 'baby & toddler'\n",
      " 'luggage & bags' 'media']\n"
     ]
    }
   ],
   "source": [
    "# List unique values in category_1 to check for inconsistencies\n",
    "unique_category_1 = products_df['category_1'].str.strip().str.lower().unique()\n",
    "\n",
    "print(\"Unique values in category_1:\\n\", unique_category_1)\n"
   ]
  },
  {
   "cell_type": "code",
   "execution_count": 44,
   "id": "2cfced3e-a0d7-4ca9-a9f6-e079b15cc9e0",
   "metadata": {},
   "outputs": [
    {
     "name": "stdout",
     "output_type": "stream",
     "text": [
      "Count of RECEIPT_IDs by length:\n",
      "    RECEIPT_ID_Length  Count\n",
      "0                 36  50000\n"
     ]
    }
   ],
   "source": [
    "# Calculate the length of each RECEIPT_ID\n",
    "transactions_df['RECEIPT_ID_Length'] = transactions_df['receipt_id'].astype(str).apply(len)\n",
    "\n",
    "# Group by length and count occurrences\n",
    "length_counts = transactions_df.groupby('RECEIPT_ID_Length').size().reset_index(name='Count')\n",
    "\n",
    "print(\"Count of RECEIPT_IDs by length:\\n\", length_counts)\n"
   ]
  },
  {
   "cell_type": "code",
   "execution_count": 46,
   "id": "b0f6cc20-c951-4767-af8d-ee1823f85407",
   "metadata": {},
   "outputs": [
    {
     "name": "stdout",
     "output_type": "stream",
     "text": [
      "Number of unique brands: 8122\n",
      "Number of unique manufacturers: 4354\n"
     ]
    }
   ],
   "source": [
    "# Standardize by stripping whitespace and converting to lowercase for consistency\n",
    "products_df['brand'] = products_df['brand']\n",
    "products_df['manufacturer'] = products_df['manufacturer']\n",
    "# Count unique values for each field\n",
    "unique_brand_count = products_df['brand'].nunique()\n",
    "unique_manufacturer_count = products_df['manufacturer'].nunique()\n",
    "\n",
    "# Display the counts\n",
    "print(\"Number of unique brands:\", unique_brand_count)\n",
    "print(\"Number of unique manufacturers:\", unique_manufacturer_count)\n"
   ]
  },
  {
   "cell_type": "code",
   "execution_count": 48,
   "id": "c312f57e-f7f8-4e9a-83f2-7322f83fa5f0",
   "metadata": {},
   "outputs": [
    {
     "name": "stdout",
     "output_type": "stream",
     "text": [
      "Count of rows where scan_date is before purchase_date: 94\n"
     ]
    }
   ],
   "source": [
    "# Convert scan_date and receipt_date columns to same format of date time\n",
    "transactions_df['scan_date'] = pd.to_datetime(transactions_df['scan_date'], errors='coerce').dt.tz_localize(None)\n",
    "transactions_df['purchase_date'] = pd.to_datetime(transactions_df['purchase_date'], errors='coerce').dt.tz_localize(None)\n",
    "\n",
    "# Check if scan_date is after receipt_date\n",
    "invalid_dates = transactions_df[transactions_df['scan_date'] < transactions_df['purchase_date']]\n",
    "\n",
    "# Display count of rows with invalid dates\n",
    "invalid_date_count = invalid_dates.shape[0]\n",
    "print(\"Count of rows where scan_date is before purchase_date:\", invalid_date_count)"
   ]
  },
  {
   "cell_type": "code",
   "execution_count": 50,
   "id": "5e2dc4a0-4e03-41e4-845f-f9b1b78fd3cf",
   "metadata": {},
   "outputs": [
    {
     "name": "stdout",
     "output_type": "stream",
     "text": [
      "Count of records with numeric quantity but sales value is 0: 321\n"
     ]
    }
   ],
   "source": [
    "# Ensure quantity and sale are numeric\n",
    "transactions_df['quantity'] = pd.to_numeric(transactions_df['quantity'], errors='coerce')\n",
    "transactions_df['sale'] = pd.to_numeric(transactions_df['sale'], errors='coerce')\n",
    "\n",
    "# Count records with numeric quantity, non-missing sales, and sales value is 0\n",
    "zero_sales_count = transactions_df[\n",
    "    (transactions_df['quantity'].notna()) & (transactions_df['quantity'] > 0) &\n",
    "    (transactions_df['sale'].notna()) & (transactions_df['sale'] == 0)\n",
    "].shape[0]\n",
    "\n",
    "# Display the count\n",
    "print(\"Count of records with numeric quantity but sales value is 0:\", zero_sales_count)\n"
   ]
  },
  {
   "cell_type": "code",
   "execution_count": 471,
   "id": "d8017189-fd1b-462a-bb7b-00fd1cd5ede7",
   "metadata": {},
   "outputs": [
    {
     "name": "stdout",
     "output_type": "stream",
     "text": [
      "Count of records with invalid quantity (negative or non-whole number): 110\n"
     ]
    }
   ],
   "source": [
    "# Ensure quantity is numeric\n",
    "transactions_df['quantity'] = pd.to_numeric(transactions_df['quantity'], errors='coerce')\n",
    "\n",
    "# Find records where quantity is negative or not a whole number\n",
    "invalid_quantity_records = transactions_df[\n",
    "    (transactions_df['quantity'] < 0) | \n",
    "    (transactions_df['quantity'] % 1 != 0)]\n",
    "\n",
    "# Display count of records with invalid quantity\n",
    "invalid_quantity_count = invalid_quantity_records.shape[0]\n",
    "print(\"Count of records with invalid quantity (negative or non-whole number):\", invalid_quantity_count)"
   ]
  },
  {
   "cell_type": "code",
   "execution_count": 356,
   "id": "97815ef0-e9c9-4df3-8898-871c15f56d51",
   "metadata": {},
   "outputs": [
    {
     "name": "stdout",
     "output_type": "stream",
     "text": [
      "Number of unformatted category_3 values (excluding nulls): 12896\n",
      "Sample of unformatted category_3 values:\n",
      "7         Men's Deodorant & Antiperspirant\n",
      "18        Men's Deodorant & Antiperspirant\n",
      "99     Foot Care Devices and Grooming Aids\n",
      "117    Foot Care Devices and Grooming Aids\n",
      "166       Men's Deodorant & Antiperspirant\n",
      "Name: category_3, dtype: object\n"
     ]
    }
   ],
   "source": [
    "# Find rows where the category_3 field is non-null and does not match the title-cased version\n",
    "unformatted_category_3 = products_df[\n",
    "    products_df['category_3'].notna() & \n",
    "    (products_df['category_3'] != products_df['category_3'].str.strip().str.title())\n",
    "]\n",
    "\n",
    "# Display the count and sample of unformatted category_1 values\n",
    "print(\"Number of unformatted category_3 values (excluding nulls):\", unformatted_category_3.shape[0])\n",
    "print(\"Sample of unformatted category_3 values:\")\n",
    "print(unformatted_category_3['category_3'].head())"
   ]
  },
  {
   "cell_type": "code",
   "execution_count": 358,
   "id": "b0dd0b46-7fa5-4da1-948d-5d4fc4c8aad0",
   "metadata": {},
   "outputs": [
    {
     "name": "stdout",
     "output_type": "stream",
     "text": [
      "Number of unformatted category_4 values (excluding nulls): 9708\n",
      "Sample of unformatted category_4 values:\n",
      "25     Women's Shaving Gel & Cream\n",
      "44     Women's Shaving Gel & Cream\n",
      "82     Women's Shaving Gel & Cream\n",
      "109                   Men's Razors\n",
      "162    Women's Shaving Gel & Cream\n",
      "Name: category_4, dtype: object\n"
     ]
    }
   ],
   "source": [
    "# Find rows where the category_4 field is non-null and does not match the title-cased version\n",
    "unformatted_category_4 = products_df[\n",
    "    products_df['category_4'].notna() & \n",
    "    (products_df['category_4'] != products_df['category_4'].str.strip().str.title())\n",
    "]\n",
    "\n",
    "# Display the count and sample of unformatted category_1 values\n",
    "print(\"Number of unformatted category_4 values (excluding nulls):\", unformatted_category_4.shape[0])\n",
    "print(\"Sample of unformatted category_4 values:\")\n",
    "print(unformatted_category_4['category_4'].head())"
   ]
  },
  {
   "cell_type": "code",
   "execution_count": 52,
   "id": "c31da576-86f5-46a4-aec0-c00bb9b776dd",
   "metadata": {},
   "outputs": [
    {
     "name": "stdout",
     "output_type": "stream",
     "text": [
      "Number of unformatted store_name values (excluding nulls): 2\n",
      "Sample of unformatted store_name values:\n",
      "13649    TINKER COMMISsARY\n",
      "45075    TINKER COMMISsARY\n",
      "Name: store_name, dtype: object\n"
     ]
    }
   ],
   "source": [
    "# Find rows where the store_name field is non-null and does not match the title-cased version\n",
    "unformatted_store_name = transactions_df[\n",
    "    transactions_df['store_name'].notna() & \n",
    "    (transactions_df['store_name'] != transactions_df['store_name'].str.strip().str.upper())\n",
    "]\n",
    "\n",
    "# Display the count and sample of unformatted category_1 values\n",
    "print(\"Number of unformatted store_name values (excluding nulls):\", unformatted_store_name.shape[0])\n",
    "print(\"Sample of unformatted store_name values:\")\n",
    "print(unformatted_store_name['store_name'].head())"
   ]
  },
  {
   "cell_type": "code",
   "execution_count": 477,
   "id": "dc646849-8e9e-44c6-b666-cd98ae2d9ad9",
   "metadata": {},
   "outputs": [
    {
     "name": "stdout",
     "output_type": "stream",
     "text": [
      "Number of unformatted Brand values (excluding nulls): 3\n",
      "Sample of unformatted Brand values:\n",
      "298995    Listerine\n",
      "315241    Listerine\n",
      "553728    Kellogg's\n",
      "Name: brand, dtype: object\n"
     ]
    }
   ],
   "source": [
    "# Find rows where the Brand field is non-null and does not match the title-cased version\n",
    "unformatted_brands = products_df[\n",
    "    products_df['brand'].notna() & \n",
    "    (products_df['brand'] != products_df['brand'].str.strip().str.upper())\n",
    "]\n",
    "\n",
    "# Display the count and sample of unformatted Brand values\n",
    "print(\"Number of unformatted Brand values (excluding nulls):\", unformatted_brands.shape[0])\n",
    "print(\"Sample of unformatted Brand values:\")\n",
    "print(unformatted_brands['brand'].head())\n",
    "\n"
   ]
  },
  {
   "cell_type": "code",
   "execution_count": 54,
   "id": "473efb9a-c77a-4ee6-960e-250d043664e3",
   "metadata": {},
   "outputs": [
    {
     "name": "stdout",
     "output_type": "stream",
     "text": [
      "Number of unformatted manufacturer values (excluding nulls): 0\n",
      "Sample of unformatted manufacturer values:\n",
      "Series([], Name: manufacturer, dtype: object)\n"
     ]
    }
   ],
   "source": [
    "# Find rows where the manufacturer field is non-null and does not match the title-cased version\n",
    "unformatted_manufacturer = products_df[\n",
    "    products_df['manufacturer'].notna() & \n",
    "    (products_df['manufacturer'] != products_df['manufacturer'].str.strip().str.upper())\n",
    "]\n",
    "\n",
    "# Display the count and sample of unformatted category_1 values\n",
    "print(\"Number of unformatted manufacturer values (excluding nulls):\", unformatted_manufacturer.shape[0])\n",
    "print(\"Sample of unformatted manufacturer values:\")\n",
    "print(unformatted_manufacturer['manufacturer'].head())"
   ]
  },
  {
   "cell_type": "code",
   "execution_count": 352,
   "id": "d984ad24-8bc7-423d-a5f3-62ff53162f03",
   "metadata": {},
   "outputs": [
    {
     "name": "stdout",
     "output_type": "stream",
     "text": [
      "Number of unformatted category_1 values (excluding nulls): 0\n",
      "Sample of unformatted category_1 values:\n",
      "Series([], Name: category_1, dtype: object)\n"
     ]
    }
   ],
   "source": [
    "# Find rows where the category_1 field is non-null and does not match the title-cased version\n",
    "unformatted_category_1 = products_df[\n",
    "    products_df['category_1'].notna() & \n",
    "    (products_df['category_1'] != products_df['category_1'].str.strip().str.title())\n",
    "]\n",
    "\n",
    "# Display the count and sample of unformatted category_1 values\n",
    "print(\"Number of unformatted category_1 values (excluding nulls):\", unformatted_category_1.shape[0])\n",
    "print(\"Sample of unformatted category_1 values:\")\n",
    "print(unformatted_category_1['category_1'].head())"
   ]
  },
  {
   "cell_type": "code",
   "execution_count": 56,
   "id": "f4041ca9-ebe6-47cb-853d-a5a435178a21",
   "metadata": {},
   "outputs": [
    {
     "name": "stdout",
     "output_type": "stream",
     "text": [
      "Number of unformatted category_2 values (excluding nulls): 0\n",
      "Sample of unformatted category_2 values:\n",
      "Series([], Name: category_2, dtype: object)\n"
     ]
    }
   ],
   "source": [
    "# Find rows where the category_2 field is non-null and does not match the title-cased version\n",
    "unformatted_category_2 = products_df[\n",
    "    products_df['category_2'].notna() & \n",
    "    (products_df['category_2'] != products_df['category_2'].str.strip().str.title())\n",
    "]\n",
    "\n",
    "# Display the count and sample of unformatted category_1 values\n",
    "print(\"Number of unformatted category_2 values (excluding nulls):\", unformatted_category_2.shape[0])\n",
    "print(\"Sample of unformatted category_2 values:\")\n",
    "print(unformatted_category_2['category_2'].head())"
   ]
  },
  {
   "cell_type": "code",
   "execution_count": null,
   "id": "a30ddacf-8cfd-4e18-b76e-7d71a659ef37",
   "metadata": {},
   "outputs": [],
   "source": []
  }
 ],
 "metadata": {
  "kernelspec": {
   "display_name": "Python 3 (ipykernel)",
   "language": "python",
   "name": "python3"
  },
  "language_info": {
   "codemirror_mode": {
    "name": "ipython",
    "version": 3
   },
   "file_extension": ".py",
   "mimetype": "text/x-python",
   "name": "python",
   "nbconvert_exporter": "python",
   "pygments_lexer": "ipython3",
   "version": "3.12.4"
  }
 },
 "nbformat": 4,
 "nbformat_minor": 5
}
